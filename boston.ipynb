{
  "nbformat": 4,
  "nbformat_minor": 0,
  "metadata": {
    "colab": {
      "provenance": []
    },
    "kernelspec": {
      "name": "python3",
      "display_name": "Python 3"
    },
    "language_info": {
      "name": "python"
    }
  },
  "cells": [
    {
      "cell_type": "code",
      "execution_count": 1,
      "metadata": {
        "colab": {
          "base_uri": "https://localhost:8080/"
        },
        "id": "HsC779L3R14H",
        "outputId": "c557fca6-f9c7-4487-a113-38a7a18ed025"
      },
      "outputs": [
        {
          "output_type": "stream",
          "name": "stdout",
          "text": [
            "Looking in indexes: https://pypi.org/simple, https://us-python.pkg.dev/colab-wheels/public/simple/\n",
            "Requirement already satisfied: scikit-learn==1.0.1 in /usr/local/lib/python3.10/dist-packages (1.0.1)\n",
            "Requirement already satisfied: numpy>=1.14.6 in /usr/local/lib/python3.10/dist-packages (from scikit-learn==1.0.1) (1.22.4)\n",
            "Requirement already satisfied: scipy>=1.1.0 in /usr/local/lib/python3.10/dist-packages (from scikit-learn==1.0.1) (1.10.1)\n",
            "Requirement already satisfied: joblib>=0.11 in /usr/local/lib/python3.10/dist-packages (from scikit-learn==1.0.1) (1.2.0)\n",
            "Requirement already satisfied: threadpoolctl>=2.0.0 in /usr/local/lib/python3.10/dist-packages (from scikit-learn==1.0.1) (3.1.0)\n"
          ]
        }
      ],
      "source": [
        "!pip install scikit-learn==1.0.1"
      ]
    },
    {
      "cell_type": "code",
      "source": [
        "import numpy as np\n",
        "import pandas as pd\n",
        "from sklearn.datasets import load_boston\n",
        "from sklearn.model_selection import train_test_split\n",
        "from sklearn.preprocessing import StandardScaler\n",
        "from tensorflow.keras.models import Sequential\n",
        "from tensorflow.keras.layers import Dense"
      ],
      "metadata": {
        "id": "2rXBkRdgU6OC"
      },
      "execution_count": 8,
      "outputs": []
    },
    {
      "cell_type": "code",
      "source": [
        "# Load the Boston Housing dataset\n",
        "boston = load_boston()"
      ],
      "metadata": {
        "colab": {
          "base_uri": "https://localhost:8080/"
        },
        "id": "nBg_eKkEU_hr",
        "outputId": "3065c5d8-cbdb-4dac-f1d8-22a153d16c8c"
      },
      "execution_count": 9,
      "outputs": [
        {
          "output_type": "stream",
          "name": "stderr",
          "text": [
            "/usr/local/lib/python3.10/dist-packages/sklearn/utils/deprecation.py:87: FutureWarning: Function load_boston is deprecated; `load_boston` is deprecated in 1.0 and will be removed in 1.2.\n",
            "\n",
            "    The Boston housing prices dataset has an ethical problem. You can refer to\n",
            "    the documentation of this function for further details.\n",
            "\n",
            "    The scikit-learn maintainers therefore strongly discourage the use of this\n",
            "    dataset unless the purpose of the code is to study and educate about\n",
            "    ethical issues in data science and machine learning.\n",
            "\n",
            "    In this special case, you can fetch the dataset from the original\n",
            "    source::\n",
            "\n",
            "        import pandas as pd\n",
            "        import numpy as np\n",
            "\n",
            "\n",
            "        data_url = \"http://lib.stat.cmu.edu/datasets/boston\"\n",
            "        raw_df = pd.read_csv(data_url, sep=\"\\s+\", skiprows=22, header=None)\n",
            "        data = np.hstack([raw_df.values[::2, :], raw_df.values[1::2, :2]])\n",
            "        target = raw_df.values[1::2, 2]\n",
            "\n",
            "    Alternative datasets include the California housing dataset (i.e.\n",
            "    :func:`~sklearn.datasets.fetch_california_housing`) and the Ames housing\n",
            "    dataset. You can load the datasets as follows::\n",
            "\n",
            "        from sklearn.datasets import fetch_california_housing\n",
            "        housing = fetch_california_housing()\n",
            "\n",
            "    for the California housing dataset and::\n",
            "\n",
            "        from sklearn.datasets import fetch_openml\n",
            "        housing = fetch_openml(name=\"house_prices\", as_frame=True)\n",
            "\n",
            "    for the Ames housing dataset.\n",
            "    \n",
            "  warnings.warn(msg, category=FutureWarning)\n"
          ]
        }
      ]
    },
    {
      "cell_type": "code",
      "source": [
        "data = pd.DataFrame(boston.data)\n",
        "data.columns = boston.feature_names\n",
        "data['PRICE'] = boston.target \n",
        "data.head()"
      ],
      "metadata": {
        "colab": {
          "base_uri": "https://localhost:8080/",
          "height": 206
        },
        "id": "50hR5Sl7VJw0",
        "outputId": "3594ab4f-f122-48a5-ed1b-c4c0685cac07"
      },
      "execution_count": 10,
      "outputs": [
        {
          "output_type": "execute_result",
          "data": {
            "text/plain": [
              "      CRIM    ZN  INDUS  CHAS    NOX     RM   AGE     DIS  RAD    TAX  \\\n",
              "0  0.00632  18.0   2.31   0.0  0.538  6.575  65.2  4.0900  1.0  296.0   \n",
              "1  0.02731   0.0   7.07   0.0  0.469  6.421  78.9  4.9671  2.0  242.0   \n",
              "2  0.02729   0.0   7.07   0.0  0.469  7.185  61.1  4.9671  2.0  242.0   \n",
              "3  0.03237   0.0   2.18   0.0  0.458  6.998  45.8  6.0622  3.0  222.0   \n",
              "4  0.06905   0.0   2.18   0.0  0.458  7.147  54.2  6.0622  3.0  222.0   \n",
              "\n",
              "   PTRATIO       B  LSTAT  PRICE  \n",
              "0     15.3  396.90   4.98   24.0  \n",
              "1     17.8  396.90   9.14   21.6  \n",
              "2     17.8  392.83   4.03   34.7  \n",
              "3     18.7  394.63   2.94   33.4  \n",
              "4     18.7  396.90   5.33   36.2  "
            ],
            "text/html": [
              "\n",
              "  <div id=\"df-60b924f2-4ae7-4696-bffe-b01e949fe477\">\n",
              "    <div class=\"colab-df-container\">\n",
              "      <div>\n",
              "<style scoped>\n",
              "    .dataframe tbody tr th:only-of-type {\n",
              "        vertical-align: middle;\n",
              "    }\n",
              "\n",
              "    .dataframe tbody tr th {\n",
              "        vertical-align: top;\n",
              "    }\n",
              "\n",
              "    .dataframe thead th {\n",
              "        text-align: right;\n",
              "    }\n",
              "</style>\n",
              "<table border=\"1\" class=\"dataframe\">\n",
              "  <thead>\n",
              "    <tr style=\"text-align: right;\">\n",
              "      <th></th>\n",
              "      <th>CRIM</th>\n",
              "      <th>ZN</th>\n",
              "      <th>INDUS</th>\n",
              "      <th>CHAS</th>\n",
              "      <th>NOX</th>\n",
              "      <th>RM</th>\n",
              "      <th>AGE</th>\n",
              "      <th>DIS</th>\n",
              "      <th>RAD</th>\n",
              "      <th>TAX</th>\n",
              "      <th>PTRATIO</th>\n",
              "      <th>B</th>\n",
              "      <th>LSTAT</th>\n",
              "      <th>PRICE</th>\n",
              "    </tr>\n",
              "  </thead>\n",
              "  <tbody>\n",
              "    <tr>\n",
              "      <th>0</th>\n",
              "      <td>0.00632</td>\n",
              "      <td>18.0</td>\n",
              "      <td>2.31</td>\n",
              "      <td>0.0</td>\n",
              "      <td>0.538</td>\n",
              "      <td>6.575</td>\n",
              "      <td>65.2</td>\n",
              "      <td>4.0900</td>\n",
              "      <td>1.0</td>\n",
              "      <td>296.0</td>\n",
              "      <td>15.3</td>\n",
              "      <td>396.90</td>\n",
              "      <td>4.98</td>\n",
              "      <td>24.0</td>\n",
              "    </tr>\n",
              "    <tr>\n",
              "      <th>1</th>\n",
              "      <td>0.02731</td>\n",
              "      <td>0.0</td>\n",
              "      <td>7.07</td>\n",
              "      <td>0.0</td>\n",
              "      <td>0.469</td>\n",
              "      <td>6.421</td>\n",
              "      <td>78.9</td>\n",
              "      <td>4.9671</td>\n",
              "      <td>2.0</td>\n",
              "      <td>242.0</td>\n",
              "      <td>17.8</td>\n",
              "      <td>396.90</td>\n",
              "      <td>9.14</td>\n",
              "      <td>21.6</td>\n",
              "    </tr>\n",
              "    <tr>\n",
              "      <th>2</th>\n",
              "      <td>0.02729</td>\n",
              "      <td>0.0</td>\n",
              "      <td>7.07</td>\n",
              "      <td>0.0</td>\n",
              "      <td>0.469</td>\n",
              "      <td>7.185</td>\n",
              "      <td>61.1</td>\n",
              "      <td>4.9671</td>\n",
              "      <td>2.0</td>\n",
              "      <td>242.0</td>\n",
              "      <td>17.8</td>\n",
              "      <td>392.83</td>\n",
              "      <td>4.03</td>\n",
              "      <td>34.7</td>\n",
              "    </tr>\n",
              "    <tr>\n",
              "      <th>3</th>\n",
              "      <td>0.03237</td>\n",
              "      <td>0.0</td>\n",
              "      <td>2.18</td>\n",
              "      <td>0.0</td>\n",
              "      <td>0.458</td>\n",
              "      <td>6.998</td>\n",
              "      <td>45.8</td>\n",
              "      <td>6.0622</td>\n",
              "      <td>3.0</td>\n",
              "      <td>222.0</td>\n",
              "      <td>18.7</td>\n",
              "      <td>394.63</td>\n",
              "      <td>2.94</td>\n",
              "      <td>33.4</td>\n",
              "    </tr>\n",
              "    <tr>\n",
              "      <th>4</th>\n",
              "      <td>0.06905</td>\n",
              "      <td>0.0</td>\n",
              "      <td>2.18</td>\n",
              "      <td>0.0</td>\n",
              "      <td>0.458</td>\n",
              "      <td>7.147</td>\n",
              "      <td>54.2</td>\n",
              "      <td>6.0622</td>\n",
              "      <td>3.0</td>\n",
              "      <td>222.0</td>\n",
              "      <td>18.7</td>\n",
              "      <td>396.90</td>\n",
              "      <td>5.33</td>\n",
              "      <td>36.2</td>\n",
              "    </tr>\n",
              "  </tbody>\n",
              "</table>\n",
              "</div>\n",
              "      <button class=\"colab-df-convert\" onclick=\"convertToInteractive('df-60b924f2-4ae7-4696-bffe-b01e949fe477')\"\n",
              "              title=\"Convert this dataframe to an interactive table.\"\n",
              "              style=\"display:none;\">\n",
              "        \n",
              "  <svg xmlns=\"http://www.w3.org/2000/svg\" height=\"24px\"viewBox=\"0 0 24 24\"\n",
              "       width=\"24px\">\n",
              "    <path d=\"M0 0h24v24H0V0z\" fill=\"none\"/>\n",
              "    <path d=\"M18.56 5.44l.94 2.06.94-2.06 2.06-.94-2.06-.94-.94-2.06-.94 2.06-2.06.94zm-11 1L8.5 8.5l.94-2.06 2.06-.94-2.06-.94L8.5 2.5l-.94 2.06-2.06.94zm10 10l.94 2.06.94-2.06 2.06-.94-2.06-.94-.94-2.06-.94 2.06-2.06.94z\"/><path d=\"M17.41 7.96l-1.37-1.37c-.4-.4-.92-.59-1.43-.59-.52 0-1.04.2-1.43.59L10.3 9.45l-7.72 7.72c-.78.78-.78 2.05 0 2.83L4 21.41c.39.39.9.59 1.41.59.51 0 1.02-.2 1.41-.59l7.78-7.78 2.81-2.81c.8-.78.8-2.07 0-2.86zM5.41 20L4 18.59l7.72-7.72 1.47 1.35L5.41 20z\"/>\n",
              "  </svg>\n",
              "      </button>\n",
              "      \n",
              "  <style>\n",
              "    .colab-df-container {\n",
              "      display:flex;\n",
              "      flex-wrap:wrap;\n",
              "      gap: 12px;\n",
              "    }\n",
              "\n",
              "    .colab-df-convert {\n",
              "      background-color: #E8F0FE;\n",
              "      border: none;\n",
              "      border-radius: 50%;\n",
              "      cursor: pointer;\n",
              "      display: none;\n",
              "      fill: #1967D2;\n",
              "      height: 32px;\n",
              "      padding: 0 0 0 0;\n",
              "      width: 32px;\n",
              "    }\n",
              "\n",
              "    .colab-df-convert:hover {\n",
              "      background-color: #E2EBFA;\n",
              "      box-shadow: 0px 1px 2px rgba(60, 64, 67, 0.3), 0px 1px 3px 1px rgba(60, 64, 67, 0.15);\n",
              "      fill: #174EA6;\n",
              "    }\n",
              "\n",
              "    [theme=dark] .colab-df-convert {\n",
              "      background-color: #3B4455;\n",
              "      fill: #D2E3FC;\n",
              "    }\n",
              "\n",
              "    [theme=dark] .colab-df-convert:hover {\n",
              "      background-color: #434B5C;\n",
              "      box-shadow: 0px 1px 3px 1px rgba(0, 0, 0, 0.15);\n",
              "      filter: drop-shadow(0px 1px 2px rgba(0, 0, 0, 0.3));\n",
              "      fill: #FFFFFF;\n",
              "    }\n",
              "  </style>\n",
              "\n",
              "      <script>\n",
              "        const buttonEl =\n",
              "          document.querySelector('#df-60b924f2-4ae7-4696-bffe-b01e949fe477 button.colab-df-convert');\n",
              "        buttonEl.style.display =\n",
              "          google.colab.kernel.accessAllowed ? 'block' : 'none';\n",
              "\n",
              "        async function convertToInteractive(key) {\n",
              "          const element = document.querySelector('#df-60b924f2-4ae7-4696-bffe-b01e949fe477');\n",
              "          const dataTable =\n",
              "            await google.colab.kernel.invokeFunction('convertToInteractive',\n",
              "                                                     [key], {});\n",
              "          if (!dataTable) return;\n",
              "\n",
              "          const docLinkHtml = 'Like what you see? Visit the ' +\n",
              "            '<a target=\"_blank\" href=https://colab.research.google.com/notebooks/data_table.ipynb>data table notebook</a>'\n",
              "            + ' to learn more about interactive tables.';\n",
              "          element.innerHTML = '';\n",
              "          dataTable['output_type'] = 'display_data';\n",
              "          await google.colab.output.renderOutput(dataTable, element);\n",
              "          const docLink = document.createElement('div');\n",
              "          docLink.innerHTML = docLinkHtml;\n",
              "          element.appendChild(docLink);\n",
              "        }\n",
              "      </script>\n",
              "    </div>\n",
              "  </div>\n",
              "  "
            ]
          },
          "metadata": {},
          "execution_count": 10
        }
      ]
    },
    {
      "cell_type": "code",
      "source": [
        "# Split the dataset into features and target\n",
        "X = boston.data\n",
        "y = boston.target\n"
      ],
      "metadata": {
        "id": "c-MMKZwgVhqK"
      },
      "execution_count": 11,
      "outputs": []
    },
    {
      "cell_type": "code",
      "source": [
        "# Split the data into training and testing sets\n",
        "X_train, X_test, y_train, y_test = train_test_split(X, y, test_size=0.2, random_state=42)\n"
      ],
      "metadata": {
        "id": "rT9iAOMTVwgb"
      },
      "execution_count": 12,
      "outputs": []
    },
    {
      "cell_type": "code",
      "source": [
        "# Scale the features\n",
        "scaler = StandardScaler()\n",
        "X_train_scaled = scaler.fit_transform(X_train)\n",
        "X_test_scaled = scaler.transform(X_test)"
      ],
      "metadata": {
        "id": "UGitWMqwV2ic"
      },
      "execution_count": 13,
      "outputs": []
    },
    {
      "cell_type": "code",
      "source": [
        "# Build the DNN model\n",
        "model = Sequential()\n",
        "model.add(Dense(32, activation='relu', input_shape=(X_train.shape[1],)))\n",
        "model.add(Dense(16, activation='relu'))\n",
        "model.add(Dense(1))"
      ],
      "metadata": {
        "id": "B3gv2B5YV8Fl"
      },
      "execution_count": 14,
      "outputs": []
    },
    {
      "cell_type": "code",
      "source": [
        "# Compile the model\n",
        "model.compile(loss='mean_squared_error', optimizer='adam')"
      ],
      "metadata": {
        "id": "MG3WGJDfWAoW"
      },
      "execution_count": 15,
      "outputs": []
    },
    {
      "cell_type": "code",
      "source": [
        "# Train the model\n",
        "model.fit(X_train_scaled, y_train, batch_size=32, epochs=100, verbose=1)\n"
      ],
      "metadata": {
        "colab": {
          "base_uri": "https://localhost:8080/"
        },
        "id": "e2FK7LNAWDQ5",
        "outputId": "850af2d5-023d-4cea-df38-831912d1b8bf"
      },
      "execution_count": 16,
      "outputs": [
        {
          "output_type": "stream",
          "name": "stdout",
          "text": [
            "Epoch 1/100\n",
            "13/13 [==============================] - 1s 7ms/step - loss: 597.6874\n",
            "Epoch 2/100\n",
            "13/13 [==============================] - 0s 3ms/step - loss: 570.9575\n",
            "Epoch 3/100\n",
            "13/13 [==============================] - 0s 3ms/step - loss: 540.3250\n",
            "Epoch 4/100\n",
            "13/13 [==============================] - 0s 3ms/step - loss: 501.6966\n",
            "Epoch 5/100\n",
            "13/13 [==============================] - 0s 3ms/step - loss: 453.3150\n",
            "Epoch 6/100\n",
            "13/13 [==============================] - 0s 3ms/step - loss: 395.5020\n",
            "Epoch 7/100\n",
            "13/13 [==============================] - 0s 3ms/step - loss: 331.6388\n",
            "Epoch 8/100\n",
            "13/13 [==============================] - 0s 3ms/step - loss: 266.7739\n",
            "Epoch 9/100\n",
            "13/13 [==============================] - 0s 3ms/step - loss: 206.2841\n",
            "Epoch 10/100\n",
            "13/13 [==============================] - 0s 4ms/step - loss: 155.5002\n",
            "Epoch 11/100\n",
            "13/13 [==============================] - 0s 3ms/step - loss: 120.4776\n",
            "Epoch 12/100\n",
            "13/13 [==============================] - 0s 3ms/step - loss: 95.2486\n",
            "Epoch 13/100\n",
            "13/13 [==============================] - 0s 3ms/step - loss: 78.4835\n",
            "Epoch 14/100\n",
            "13/13 [==============================] - 0s 4ms/step - loss: 65.6337\n",
            "Epoch 15/100\n",
            "13/13 [==============================] - 0s 5ms/step - loss: 55.4781\n",
            "Epoch 16/100\n",
            "13/13 [==============================] - 0s 4ms/step - loss: 47.3190\n",
            "Epoch 17/100\n",
            "13/13 [==============================] - 0s 3ms/step - loss: 41.0688\n",
            "Epoch 18/100\n",
            "13/13 [==============================] - 0s 3ms/step - loss: 36.3313\n",
            "Epoch 19/100\n",
            "13/13 [==============================] - 0s 3ms/step - loss: 32.7147\n",
            "Epoch 20/100\n",
            "13/13 [==============================] - 0s 3ms/step - loss: 30.0041\n",
            "Epoch 21/100\n",
            "13/13 [==============================] - 0s 3ms/step - loss: 28.0696\n",
            "Epoch 22/100\n",
            "13/13 [==============================] - 0s 3ms/step - loss: 26.5241\n",
            "Epoch 23/100\n",
            "13/13 [==============================] - 0s 3ms/step - loss: 25.3739\n",
            "Epoch 24/100\n",
            "13/13 [==============================] - 0s 3ms/step - loss: 24.3786\n",
            "Epoch 25/100\n",
            "13/13 [==============================] - 0s 3ms/step - loss: 23.5190\n",
            "Epoch 26/100\n",
            "13/13 [==============================] - 0s 3ms/step - loss: 22.8467\n",
            "Epoch 27/100\n",
            "13/13 [==============================] - 0s 3ms/step - loss: 22.2462\n",
            "Epoch 28/100\n",
            "13/13 [==============================] - 0s 3ms/step - loss: 21.6711\n",
            "Epoch 29/100\n",
            "13/13 [==============================] - 0s 3ms/step - loss: 21.1721\n",
            "Epoch 30/100\n",
            "13/13 [==============================] - 0s 3ms/step - loss: 20.6118\n",
            "Epoch 31/100\n",
            "13/13 [==============================] - 0s 3ms/step - loss: 20.1924\n",
            "Epoch 32/100\n",
            "13/13 [==============================] - 0s 3ms/step - loss: 19.8156\n",
            "Epoch 33/100\n",
            "13/13 [==============================] - 0s 4ms/step - loss: 19.3546\n",
            "Epoch 34/100\n",
            "13/13 [==============================] - 0s 3ms/step - loss: 19.0155\n",
            "Epoch 35/100\n",
            "13/13 [==============================] - 0s 3ms/step - loss: 18.6010\n",
            "Epoch 36/100\n",
            "13/13 [==============================] - 0s 3ms/step - loss: 18.3167\n",
            "Epoch 37/100\n",
            "13/13 [==============================] - 0s 3ms/step - loss: 17.9750\n",
            "Epoch 38/100\n",
            "13/13 [==============================] - 0s 5ms/step - loss: 17.6524\n",
            "Epoch 39/100\n",
            "13/13 [==============================] - 0s 3ms/step - loss: 17.3483\n",
            "Epoch 40/100\n",
            "13/13 [==============================] - 0s 3ms/step - loss: 17.0733\n",
            "Epoch 41/100\n",
            "13/13 [==============================] - 0s 3ms/step - loss: 16.7825\n",
            "Epoch 42/100\n",
            "13/13 [==============================] - 0s 3ms/step - loss: 16.5043\n",
            "Epoch 43/100\n",
            "13/13 [==============================] - 0s 4ms/step - loss: 16.3049\n",
            "Epoch 44/100\n",
            "13/13 [==============================] - 0s 3ms/step - loss: 15.9718\n",
            "Epoch 45/100\n",
            "13/13 [==============================] - 0s 3ms/step - loss: 15.8619\n",
            "Epoch 46/100\n",
            "13/13 [==============================] - 0s 3ms/step - loss: 15.5256\n",
            "Epoch 47/100\n",
            "13/13 [==============================] - 0s 3ms/step - loss: 15.3184\n",
            "Epoch 48/100\n",
            "13/13 [==============================] - 0s 3ms/step - loss: 15.0897\n",
            "Epoch 49/100\n",
            "13/13 [==============================] - 0s 3ms/step - loss: 14.9095\n",
            "Epoch 50/100\n",
            "13/13 [==============================] - 0s 3ms/step - loss: 14.7061\n",
            "Epoch 51/100\n",
            "13/13 [==============================] - 0s 3ms/step - loss: 14.5591\n",
            "Epoch 52/100\n",
            "13/13 [==============================] - 0s 3ms/step - loss: 14.3377\n",
            "Epoch 53/100\n",
            "13/13 [==============================] - 0s 3ms/step - loss: 14.1860\n",
            "Epoch 54/100\n",
            "13/13 [==============================] - 0s 3ms/step - loss: 14.0152\n",
            "Epoch 55/100\n",
            "13/13 [==============================] - 0s 3ms/step - loss: 13.8478\n",
            "Epoch 56/100\n",
            "13/13 [==============================] - 0s 3ms/step - loss: 13.6835\n",
            "Epoch 57/100\n",
            "13/13 [==============================] - 0s 3ms/step - loss: 13.5157\n",
            "Epoch 58/100\n",
            "13/13 [==============================] - 0s 3ms/step - loss: 13.4788\n",
            "Epoch 59/100\n",
            "13/13 [==============================] - 0s 4ms/step - loss: 13.2873\n",
            "Epoch 60/100\n",
            "13/13 [==============================] - 0s 5ms/step - loss: 13.1034\n",
            "Epoch 61/100\n",
            "13/13 [==============================] - 0s 4ms/step - loss: 12.9780\n",
            "Epoch 62/100\n",
            "13/13 [==============================] - 0s 3ms/step - loss: 12.8293\n",
            "Epoch 63/100\n",
            "13/13 [==============================] - 0s 3ms/step - loss: 12.7281\n",
            "Epoch 64/100\n",
            "13/13 [==============================] - 0s 3ms/step - loss: 12.6195\n",
            "Epoch 65/100\n",
            "13/13 [==============================] - 0s 3ms/step - loss: 12.4809\n",
            "Epoch 66/100\n",
            "13/13 [==============================] - 0s 3ms/step - loss: 12.3935\n",
            "Epoch 67/100\n",
            "13/13 [==============================] - 0s 3ms/step - loss: 12.2454\n",
            "Epoch 68/100\n",
            "13/13 [==============================] - 0s 3ms/step - loss: 12.1251\n",
            "Epoch 69/100\n",
            "13/13 [==============================] - 0s 3ms/step - loss: 12.0193\n",
            "Epoch 70/100\n",
            "13/13 [==============================] - 0s 3ms/step - loss: 11.9525\n",
            "Epoch 71/100\n",
            "13/13 [==============================] - 0s 4ms/step - loss: 11.8238\n",
            "Epoch 72/100\n",
            "13/13 [==============================] - 0s 3ms/step - loss: 11.7383\n",
            "Epoch 73/100\n",
            "13/13 [==============================] - 0s 3ms/step - loss: 11.6310\n",
            "Epoch 74/100\n",
            "13/13 [==============================] - 0s 3ms/step - loss: 11.5891\n",
            "Epoch 75/100\n",
            "13/13 [==============================] - 0s 3ms/step - loss: 11.4587\n",
            "Epoch 76/100\n",
            "13/13 [==============================] - 0s 5ms/step - loss: 11.3844\n",
            "Epoch 77/100\n",
            "13/13 [==============================] - 0s 3ms/step - loss: 11.3404\n",
            "Epoch 78/100\n",
            "13/13 [==============================] - 0s 3ms/step - loss: 11.2196\n",
            "Epoch 79/100\n",
            "13/13 [==============================] - 0s 4ms/step - loss: 11.1443\n",
            "Epoch 80/100\n",
            "13/13 [==============================] - 0s 4ms/step - loss: 11.0216\n",
            "Epoch 81/100\n",
            "13/13 [==============================] - 0s 3ms/step - loss: 10.9412\n",
            "Epoch 82/100\n",
            "13/13 [==============================] - 0s 3ms/step - loss: 10.9306\n",
            "Epoch 83/100\n",
            "13/13 [==============================] - 0s 3ms/step - loss: 10.7870\n",
            "Epoch 84/100\n",
            "13/13 [==============================] - 0s 3ms/step - loss: 10.7649\n",
            "Epoch 85/100\n",
            "13/13 [==============================] - 0s 3ms/step - loss: 10.6473\n",
            "Epoch 86/100\n",
            "13/13 [==============================] - 0s 5ms/step - loss: 10.6048\n",
            "Epoch 87/100\n",
            "13/13 [==============================] - 0s 3ms/step - loss: 10.5605\n",
            "Epoch 88/100\n",
            "13/13 [==============================] - 0s 3ms/step - loss: 10.4885\n",
            "Epoch 89/100\n",
            "13/13 [==============================] - 0s 3ms/step - loss: 10.3949\n",
            "Epoch 90/100\n",
            "13/13 [==============================] - 0s 4ms/step - loss: 10.3161\n",
            "Epoch 91/100\n",
            "13/13 [==============================] - 0s 3ms/step - loss: 10.2475\n",
            "Epoch 92/100\n",
            "13/13 [==============================] - 0s 2ms/step - loss: 10.1667\n",
            "Epoch 93/100\n",
            "13/13 [==============================] - 0s 2ms/step - loss: 10.1351\n",
            "Epoch 94/100\n",
            "13/13 [==============================] - 0s 2ms/step - loss: 10.0892\n",
            "Epoch 95/100\n",
            "13/13 [==============================] - 0s 3ms/step - loss: 10.0167\n",
            "Epoch 96/100\n",
            "13/13 [==============================] - 0s 2ms/step - loss: 9.9455\n",
            "Epoch 97/100\n",
            "13/13 [==============================] - 0s 2ms/step - loss: 9.9210\n",
            "Epoch 98/100\n",
            "13/13 [==============================] - 0s 2ms/step - loss: 9.7963\n",
            "Epoch 99/100\n",
            "13/13 [==============================] - 0s 2ms/step - loss: 9.7789\n",
            "Epoch 100/100\n",
            "13/13 [==============================] - 0s 3ms/step - loss: 9.7971\n"
          ]
        },
        {
          "output_type": "execute_result",
          "data": {
            "text/plain": [
              "<keras.callbacks.History at 0x7f447c232b30>"
            ]
          },
          "metadata": {},
          "execution_count": 16
        }
      ]
    },
    {
      "cell_type": "code",
      "source": [
        "# Evaluate the model on the test set\n",
        "mse = model.evaluate(X_test_scaled, y_test, verbose=0)\n",
        "print(f\"Mean Squared Error on Test Set: {mse}\")\n"
      ],
      "metadata": {
        "colab": {
          "base_uri": "https://localhost:8080/"
        },
        "id": "xWvjqEFsWF3D",
        "outputId": "d06aaf93-9677-4d40-be6c-06487b036583"
      },
      "execution_count": 17,
      "outputs": [
        {
          "output_type": "stream",
          "name": "stdout",
          "text": [
            "Mean Squared Error on Test Set: 12.74731159210205\n"
          ]
        }
      ]
    },
    {
      "cell_type": "code",
      "source": [
        "# Predict house prices using the trained model\n",
        "predictions = model.predict(X_test_scaled)"
      ],
      "metadata": {
        "colab": {
          "base_uri": "https://localhost:8080/"
        },
        "id": "MBFaIYeSWWd3",
        "outputId": "09fdb696-6b79-40b9-b980-8895eb44ef9a"
      },
      "execution_count": 19,
      "outputs": [
        {
          "output_type": "stream",
          "name": "stdout",
          "text": [
            "4/4 [==============================] - 0s 4ms/step\n"
          ]
        }
      ]
    }
  ]
}